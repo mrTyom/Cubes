{
 "cells": [
  {
   "cell_type": "code",
   "execution_count": 1230,
   "metadata": {},
   "outputs": [],
   "source": [
    "import random"
   ]
  },
  {
   "cell_type": "markdown",
   "metadata": {},
   "source": [
    "# 1. Исходные данные"
   ]
  },
  {
   "cell_type": "code",
   "execution_count": 1231,
   "metadata": {},
   "outputs": [],
   "source": [
    "EDGES   = 6\n",
    "CUBES   = 5\n",
    "STEPS   = 3\n",
    "WIN     = 1000\n",
    "BARREL  = 900"
   ]
  },
  {
   "cell_type": "markdown",
   "metadata": {},
   "source": [
    "# 2. Розыгрыш"
   ]
  },
  {
   "cell_type": "code",
   "execution_count": 1232,
   "metadata": {},
   "outputs": [],
   "source": [
    "def raffle(cubes):\n",
    "    ''' Розыгрыш '''\n",
    "    cubeSet = random.choices(range(1, EDGES + 1), k=cubes)\n",
    "    return cubeSet"
   ]
  },
  {
   "cell_type": "markdown",
   "metadata": {},
   "source": [
    "# 3. Оценка"
   ]
  },
  {
   "cell_type": "code",
   "execution_count": 1233,
   "metadata": {},
   "outputs": [],
   "source": [
    "def cubeCount(cubeSet):\n",
    "    ''' Подсчёт одинаковых кубиков '''\n",
    "\n",
    "    cubeCount = {}\n",
    "    \n",
    "    for item in cubeSet:\n",
    "    \n",
    "        if item in cubeCount:\n",
    "            cubeCount[item] += 1\n",
    "    \n",
    "        else:\n",
    "            cubeCount[item] = 1\n",
    "    \n",
    "    return cubeCount"
   ]
  },
  {
   "cell_type": "code",
   "execution_count": 1234,
   "metadata": {},
   "outputs": [],
   "source": [
    "def grade(cubeCount):\n",
    "    ''' Подсчёт количества очков '''\n",
    "\n",
    "    scope = 0\n",
    "    \n",
    "    for key, value in cubeCount.items():\n",
    "\n",
    "        if value == 5:\n",
    "            scope = 1000\n",
    "\n",
    "        if value == 4:\n",
    "            scope += key*10 + 100\n",
    "\n",
    "        if value == 3:\n",
    "            if key == 1:\n",
    "                scope += 100\n",
    "            else:\n",
    "                scope += key*10\n",
    "\n",
    "        if value == 2:\n",
    "            if key == 5:\n",
    "                scope += 5*2\n",
    "            if key == 1:\n",
    "                scope += 10*2\n",
    "            \n",
    "        if value == 1:\n",
    "            if key == 5:\n",
    "                scope += 5\n",
    "            if key == 1:\n",
    "                scope += 10\n",
    "\n",
    "    return scope "
   ]
  },
  {
   "cell_type": "code",
   "execution_count": 1235,
   "metadata": {},
   "outputs": [],
   "source": [
    "def checkStrike(cubeCount):\n",
    "    check = False\n",
    "    keys_to_remove = cubeCount.copy()\n",
    "\n",
    "    for key, value in cubeCount.items():\n",
    "        \n",
    "        if value == 5:\n",
    "            del keys_to_remove[key]\n",
    "\n",
    "        if value == 4:\n",
    "            del keys_to_remove[key]\n",
    "\n",
    "        if value == 3:\n",
    "            del keys_to_remove[key]\n",
    "\n",
    "        if value == 2:\n",
    "            del keys_to_remove[key]\n",
    "        \n",
    "        if value == 1:\n",
    "            if key == 1:\n",
    "                del keys_to_remove[key]\n",
    "            if key == 5:\n",
    "                del keys_to_remove[key]\n",
    "\n",
    "    if not keys_to_remove:\n",
    "        check = True\n",
    "\n",
    "    return check\n"
   ]
  },
  {
   "cell_type": "code",
   "execution_count": 1236,
   "metadata": {},
   "outputs": [
    {
     "name": "stdout",
     "output_type": "stream",
     "text": [
      "Расклад:  [6, 5, 1, 1, 6]\n",
      "Подсчёт:  {6: 2, 5: 1, 1: 2}\n",
      "Очки:  25\n",
      "Небитка\n"
     ]
    }
   ],
   "source": [
    "cubeSet = raffle(CUBES)\n",
    "print('Расклад: ', cubeSet)\n",
    "\n",
    "cubeCount = cubeCount(cubeSet)\n",
    "print('Подсчёт: ', cubeCount)\n",
    "\n",
    "scope = grade(cubeCount)\n",
    "print('Очки: ', scope)\n",
    "\n",
    "strike = checkStrike(cubeCount)\n",
    "if strike: \n",
    "    print('Небитка')"
   ]
  }
 ],
 "metadata": {
  "kernelspec": {
   "display_name": "Python 3",
   "language": "python",
   "name": "python3"
  },
  "language_info": {
   "codemirror_mode": {
    "name": "ipython",
    "version": 3
   },
   "file_extension": ".py",
   "mimetype": "text/x-python",
   "name": "python",
   "nbconvert_exporter": "python",
   "pygments_lexer": "ipython3",
   "version": "3.12.3"
  }
 },
 "nbformat": 4,
 "nbformat_minor": 2
}
