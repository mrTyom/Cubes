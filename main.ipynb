{
 "cells": [
  {
   "cell_type": "markdown",
   "metadata": {},
   "source": [
    "# 1. Инициализация"
   ]
  },
  {
   "cell_type": "markdown",
   "metadata": {},
   "source": [
    "## 1.1 Библиотеки"
   ]
  },
  {
   "cell_type": "code",
   "execution_count": null,
   "metadata": {},
   "outputs": [],
   "source": [
    "import random\n",
    "import matplotlib.pyplot as plt"
   ]
  },
  {
   "cell_type": "markdown",
   "metadata": {},
   "source": [
    "## 1.2 Константы"
   ]
  },
  {
   "cell_type": "code",
   "execution_count": null,
   "metadata": {},
   "outputs": [],
   "source": [
    "EDGES   = 6     # Количество граней на кубиках\n",
    "CUBES   = 5     # Количество кубиков\n",
    "STEPS   = 10000     # Количество ходов\n",
    "WIN     = 1000  # Очки для победы\n",
    "BARREL  = 900   # Очки для бочки"
   ]
  },
  {
   "cell_type": "markdown",
   "metadata": {},
   "source": [
    "## 1.3 Начальные значения"
   ]
  },
  {
   "cell_type": "code",
   "execution_count": null,
   "metadata": {},
   "outputs": [],
   "source": [
    "scopeSet = {}"
   ]
  },
  {
   "cell_type": "markdown",
   "metadata": {},
   "source": [
    "# 2. Розыгрыш"
   ]
  },
  {
   "cell_type": "code",
   "execution_count": null,
   "metadata": {},
   "outputs": [],
   "source": [
    "def raffle(cubes):\n",
    "    ''' Розыгрыш '''\n",
    "\n",
    "    # Создание случайного набора кубов\n",
    "    cubeSet = random.choices(range(1, EDGES + 1), k=cubes)\n",
    "    \n",
    "    return cubeSet"
   ]
  },
  {
   "cell_type": "markdown",
   "metadata": {},
   "source": [
    "# 3. Оценка"
   ]
  },
  {
   "cell_type": "markdown",
   "metadata": {},
   "source": [
    "## 3.1 Подсчёт одинаковых кубиков"
   ]
  },
  {
   "cell_type": "code",
   "execution_count": null,
   "metadata": {},
   "outputs": [],
   "source": [
    "def cubeCount(cubeSet):\n",
    "    ''' Подсчёт одинаковых кубиков '''\n",
    "\n",
    "    cubeCount = {}\n",
    "    \n",
    "    for item in cubeSet:\n",
    "    \n",
    "        if item in cubeCount:\n",
    "            cubeCount[item] += 1\n",
    "    \n",
    "        else:\n",
    "            cubeCount[item] = 1\n",
    "    \n",
    "    return cubeCount"
   ]
  },
  {
   "cell_type": "markdown",
   "metadata": {},
   "source": [
    "## 3.2 Подсчёт количества очков"
   ]
  },
  {
   "cell_type": "code",
   "execution_count": null,
   "metadata": {},
   "outputs": [],
   "source": [
    "def grade(cubeCount):\n",
    "    ''' Подсчёт количества очков '''\n",
    "\n",
    "    scope = 0\n",
    "    \n",
    "    for key, value in cubeCount.items():\n",
    "\n",
    "        if value == 5:\n",
    "            scope = 1000\n",
    "\n",
    "        if value == 4:\n",
    "            scope += key*10 + 100\n",
    "\n",
    "        if value == 3:\n",
    "            if key == 1:\n",
    "                scope += 100\n",
    "            else:\n",
    "                scope += key*10\n",
    "\n",
    "        if value == 2:\n",
    "            if key == 5:\n",
    "                scope += 5*2\n",
    "            if key == 1:\n",
    "                scope += 10*2\n",
    "            \n",
    "        if value == 1:\n",
    "            if key == 5:\n",
    "                scope += 5\n",
    "            if key == 1:\n",
    "                scope += 10\n",
    "\n",
    "    return scope "
   ]
  },
  {
   "cell_type": "markdown",
   "metadata": {},
   "source": [
    "## 3.3 Определение небикти"
   ]
  },
  {
   "cell_type": "code",
   "execution_count": null,
   "metadata": {},
   "outputs": [],
   "source": [
    "def checkStrike(cubeCount):\n",
    "    ''' Определение небикти '''\n",
    "\n",
    "    check = False\n",
    "\n",
    "    # Копирование сета, чтобы при удалении ключа он не мешал итерации\n",
    "    keys_to_remove = cubeCount.copy()\n",
    "\n",
    "    for key, value in cubeCount.items():\n",
    "        \n",
    "        if value == 5:\n",
    "            del keys_to_remove[key]\n",
    "\n",
    "        if value == 4:\n",
    "            del keys_to_remove[key]\n",
    "\n",
    "        if value == 3:\n",
    "            del keys_to_remove[key]\n",
    "\n",
    "        if value == 2:\n",
    "            del keys_to_remove[key]\n",
    "        \n",
    "        if value == 1:\n",
    "            if key == 1:\n",
    "                del keys_to_remove[key]\n",
    "            if key == 5:\n",
    "                del keys_to_remove[key]\n",
    "\n",
    "    if not keys_to_remove:\n",
    "        check = True\n",
    "\n",
    "    return check\n"
   ]
  },
  {
   "cell_type": "code",
   "execution_count": null,
   "metadata": {},
   "outputs": [],
   "source": [
    "def scopeCount(score, scopeSet):\n",
    "    ''' Подсчёт одинаковых очков '''\n",
    "    \n",
    "    if score in scopeSet:\n",
    "        scopeSet[score] += 1\n",
    "    else:\n",
    "        scopeSet[score] = 1\n",
    "    \n",
    "    return scopeSet  # Return the dictionary with counts"
   ]
  },
  {
   "cell_type": "markdown",
   "metadata": {},
   "source": [
    "# 4. Гейм"
   ]
  },
  {
   "cell_type": "code",
   "execution_count": null,
   "metadata": {},
   "outputs": [],
   "source": [
    "for game in range(STEPS):\n",
    "    \n",
    "    print(game)\n",
    "\n",
    "    cubeSet = raffle(CUBES)\n",
    "    print('Расклад: ', cubeSet)\n",
    "\n",
    "    cubeSetCount = cubeCount(cubeSet)\n",
    "    print('Подсчёт: ', cubeSetCount)\n",
    "\n",
    "    scope = grade(cubeSetCount)\n",
    "    print('Очки: ', scope)\n",
    "\n",
    "    strike = checkStrike(cubeSetCount)\n",
    "    if strike: \n",
    "        print('Небитка')\n",
    "\n",
    "    if scope == 0:\n",
    "        print('Булка')\n",
    "\n",
    "    scopeSet = scopeCount(scope, scopeSet)"
   ]
  },
  {
   "cell_type": "markdown",
   "metadata": {},
   "source": [
    "# 5. Стратегии"
   ]
  },
  {
   "cell_type": "markdown",
   "metadata": {},
   "source": [
    "## 5.1 Неазартная стратегия"
   ]
  },
  {
   "cell_type": "code",
   "execution_count": null,
   "metadata": {},
   "outputs": [],
   "source": [
    "# Ход     Отложить    Записать\n",
    "# 1       25          50\n",
    "# 2       25          50    \n",
    "# 3       25          50\n"
   ]
  },
  {
   "cell_type": "markdown",
   "metadata": {},
   "source": [
    "# 6. Статистика"
   ]
  },
  {
   "cell_type": "markdown",
   "metadata": {},
   "source": [
    "## 6.1 Вероятность распределения очков"
   ]
  },
  {
   "cell_type": "code",
   "execution_count": null,
   "metadata": {},
   "outputs": [],
   "source": [
    "total_frequency = sum(scopeSet.values())\n",
    "normalized_data = {key: value / total_frequency for key, value in scopeSet.items()}\n",
    "\n",
    "plt.bar(normalized_data.keys(), normalized_data.values(), width=3)  # изменяем ширину столбцов\n",
    "plt.xlabel('Очки')\n",
    "plt.ylabel('Частота')\n",
    "plt.title('Вероятность распределения очков для 5ти кубов')\n",
    "\n",
    "# переходим к логарифмической шкале по оси x\n",
    "plt.xscale('log')  \n",
    "\n",
    "plt.show()\n"
   ]
  }
 ],
 "metadata": {
  "kernelspec": {
   "display_name": "Python 3",
   "language": "python",
   "name": "python3"
  },
  "language_info": {
   "codemirror_mode": {
    "name": "ipython",
    "version": 3
   },
   "file_extension": ".py",
   "mimetype": "text/x-python",
   "name": "python",
   "nbconvert_exporter": "python",
   "pygments_lexer": "ipython3",
   "version": "3.12.3"
  }
 },
 "nbformat": 4,
 "nbformat_minor": 2
}
